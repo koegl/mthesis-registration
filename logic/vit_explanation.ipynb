{
 "cells": [
  {
   "cell_type": "markdown",
   "metadata": {
    "collapsed": true,
    "pycharm": {
     "name": "#%% md\n"
    }
   },
   "source": [
    "# ViT implementation from [lucidrains](https://github.com/lucidrains/vit-pytorch#vision-transformer---pytorch) explained"
   ]
  },
  {
   "cell_type": "markdown",
   "source": [
    "## Transformer Encoder\n",
    "<img src=\"./visuals/transformer_encoder.png\" alt=\"transformer_encoder\" width=\"200\"/>"
   ],
   "metadata": {
    "collapsed": false
   }
  },
  {
   "cell_type": "markdown",
   "source": [
    "#### Norm (here: 'PreNorm')"
   ],
   "metadata": {
    "collapsed": false
   }
  },
  {
   "cell_type": "code",
   "execution_count": null,
   "outputs": [],
   "source": [
    "from torch import nn\n",
    "\n",
    "class PreNorm(nn.Module):\n",
    "    def __init__(self, dim, attention_or_mlp):\n",
    "        super().__init__()\n",
    "\n",
    "        self.norm = nn.LayerNorm(dim)\n",
    "        self.attention_or_mlp = attention_or_mlp\n",
    "\n",
    "    def forward(self, x, **kwargs):\n",
    "        normalised_input = self.norm(x)\n",
    "        attention_or_mlp_output = self.attention_or_mlp(normalised_input, **kwargs)\n",
    "\n",
    "        return attention_or_mlp_output"
   ],
   "metadata": {
    "collapsed": false,
    "pycharm": {
     "name": "#%%\n"
    }
   }
  },
  {
   "cell_type": "markdown",
   "source": [
    "This 'PreNorm' class is used in two places\n",
    "1. to calculate the attention with the norm as the input\n",
    "2. to calculate the MLP with the previous output normalised"
   ],
   "metadata": {
    "collapsed": false
   }
  },
  {
   "cell_type": "markdown",
   "source": [
    "#### MLP (here: 'FeedForward')\n",
    "- a two-layer neural network\n",
    "- a GELU  and a dropout after the first layer\n",
    "- a dropout after the second layer\n",
    "\n",
    "**Gaussian Error Linear Unit (GELU)**\n",
    "<img src=\"./visuals/gelu.png\" alt=\"gelu\" width=\"400\"/>\n",
    "\n",
    "- activation function used in the most recent Transformers"
   ],
   "metadata": {
    "collapsed": false
   }
  },
  {
   "cell_type": "code",
   "execution_count": null,
   "outputs": [],
   "source": [
    "class FeedForward(nn.Module):\n",
    "    def __init__(self, dim, hidden_dim, dropout=0.):\n",
    "        super().__init__()\n",
    "\n",
    "        self.net = nn.Sequential(\n",
    "            nn.Linear(dim, hidden_dim),\n",
    "            nn.GELU(),\n",
    "            nn.Dropout(dropout),\n",
    "            nn.Linear(hidden_dim, dim),\n",
    "            nn.Dropout(dropout)\n",
    "        )\n",
    "\n",
    "    def forward(self, x):\n",
    "        return self.net(x)"
   ],
   "metadata": {
    "collapsed": false,
    "pycharm": {
     "name": "#%%\n",
     "is_executing": true
    }
   }
  },
  {
   "cell_type": "markdown",
   "source": [
    "#### Multi-Head Scaled Dot-Product Attention (here: 'Attention')\n",
    "<img src=\"./visuals/attention.png\" alt=\"gelu\" width=\"600\"/>"
   ],
   "metadata": {
    "collapsed": false
   }
  },
  {
   "cell_type": "code",
   "execution_count": null,
   "outputs": [],
   "source": [
    "import torch\n",
    "from torch import nn\n",
    "from einops import rearrange, repeat\n",
    "\n",
    "class Attention(nn.Module):\n",
    "    def __init__(self, dim, heads=8, dim_head=64, dropout=0.):\n",
    "        super().__init__()\n",
    "        inner_dim = dim_head * heads\n",
    "        project_out = not (heads == 1 and dim_head == dim)\n",
    "\n",
    "        self.heads = heads\n",
    "        self.scale = dim_head ** -0.5\n",
    "\n",
    "        self.attend = nn.Softmax(dim=-1)\n",
    "        self.dropout = nn.Dropout(dropout)\n",
    "\n",
    "        self.to_qkv = nn.Linear(dim, inner_dim * 3, bias=False)\n",
    "\n",
    "        self.to_out = nn.Sequential(\n",
    "            nn.Linear(inner_dim, dim),\n",
    "            nn.Dropout(dropout)\n",
    "        ) if project_out else nn.Identity()\n",
    "\n",
    "    def forward(self, x):\n",
    "        qkv = self.to_qkv(x).chunk(3, dim=-1)\n",
    "        q, k, v = map(lambda t: rearrange(t, 'b n (h d) -> b h n d', h=self.heads), qkv)\n",
    "\n",
    "        dots = torch.matmul(q, k.transpose(-1, -2)) * self.scale\n",
    "\n",
    "        attn = self.attend(dots)\n",
    "        attn = self.dropout(attn)\n",
    "\n",
    "        out = torch.matmul(attn, v)\n",
    "        out = rearrange(out, 'b h n d -> b n (h d)')\n",
    "        return self.to_out(out)"
   ],
   "metadata": {
    "collapsed": false,
    "pycharm": {
     "name": "#%%\n"
    }
   }
  },
  {
   "cell_type": "markdown",
   "source": [
    "**Q, K, V**\n",
    "We want to get the linear embeddings of Q, K and V before passing them to the attention\n",
    "- to get Q, K and V (or in the sketch - the putput of the linear layers after before the attention) we take the input (patch-embedding) and pass it through a linear layer with output dimension three times the inner dimension\n",
    "    - inner dimension is the amount of heads times their dimensions\n",
    "    - times three, because we will have to split it up into three\n",
    "    - we could use separate networks for this, but like this you can combine them into one\n",
    "    - this is done with 'qkv = self.to_qkv(x).chunk(3, dim=-1)'\n",
    "- we need to do the rearranging, because we need to split the inner dimensions back into head and dim_head (reverse concatenation)\n",
    "\n",
    "Then we multiply Q and K and scale it\n",
    "\n",
    "Then we apply the softmax and a dropout\n",
    "\n",
    "Then we multiply with V\n",
    "\n",
    "Then we rearrange again (concatenation)\n",
    "\n",
    "Finally we pass it through a linear layer and a dropout"
   ],
   "metadata": {
    "collapsed": false,
    "pycharm": {
     "name": "#%% md\n"
    }
   }
  },
  {
   "cell_type": "markdown",
   "source": [
    "#### Transformer Encoder (here: 'Transformer')\n",
    "<img src=\"./visuals/transformer_encoder.png\" alt=\"transformer_encoder\" width=\"100\"/>"
   ],
   "metadata": {
    "collapsed": false
   }
  },
  {
   "cell_type": "code",
   "execution_count": null,
   "outputs": [],
   "source": [
    "class Transformer(nn.Module):\n",
    "    def __init__(self, dim, depth, heads, dim_head, mlp_dim, dropout = 0.):\n",
    "        super().__init__()\n",
    "        self.layers = nn.ModuleList([])\n",
    "        for _ in range(depth):\n",
    "            self.layers.append(nn.ModuleList([\n",
    "                PreNorm(dim, Attention(dim, heads = heads, dim_head = dim_head, dropout = dropout)),\n",
    "                PreNorm(dim, FeedForward(dim, mlp_dim, dropout = dropout))\n",
    "            ]))\n",
    "\n",
    "    def forward(self, x):\n",
    "        for attn, ff in self.layers:\n",
    "            x = attn(x) + x\n",
    "            x = ff(x) + x\n",
    "        return x"
   ],
   "metadata": {
    "collapsed": false,
    "pycharm": {
     "name": "#%%\n"
    }
   }
  },
  {
   "cell_type": "markdown",
   "source": [
    "- in 'init()' we create the multiple 'layers' of the transformer encoder\n",
    "    - 'depth' corresponds to 'L' in the diagram\n",
    "    - each layer consists of a multi-head attention (with the norm) and of an MLP (with the norm)\n",
    "In 'forward()' we loop through all the layers and add them up\n",
    "- first we calculate the attention and then pass the output to the MLP\n",
    "- the output of the MLP is then fed into the attention in the next iteration"
   ],
   "metadata": {
    "collapsed": false
   }
  }
 ],
 "metadata": {
  "kernelspec": {
   "display_name": "Python 3",
   "language": "python",
   "name": "python3"
  },
  "language_info": {
   "codemirror_mode": {
    "name": "ipython",
    "version": 2
   },
   "file_extension": ".py",
   "mimetype": "text/x-python",
   "name": "python",
   "nbconvert_exporter": "python",
   "pygments_lexer": "ipython2",
   "version": "2.7.6"
  }
 },
 "nbformat": 4,
 "nbformat_minor": 0
}